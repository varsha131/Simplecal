
Width = float(input("Enter the width of Rectangle: "))

Height = float(input("Enter the height of Rectangle: "))

Area = Width * Height

print("Area of a Rectangle is " , format(Area))
