


Radius = float(input("Enter radius of circle is : "))

pie = 3.14

print("Area Of Circle Is : " , format( pie * Radius * Radius ))
