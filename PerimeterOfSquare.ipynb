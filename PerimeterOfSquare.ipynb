
a = int(input('Enter first side: '))

b = int(input('Enter second side: '))

c = int(input('Enter third side: '))

perim = a + b + c

print("Prtimeter Of Square in " , perim)