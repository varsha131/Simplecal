
def add( a , b ):
	
	return a + b

def sub( a , b ):

	return a - b

def mul( a , b ):

	return a * b

def div( a , b ):

	return a / b

def mod( a , b ):

	return a % b

def exp( a , b ):

	return a ** b

def flo( a , b ):

	return a // b

print(" Simple Calculator ")
print(" 1.Add ")
print(" 2.Sub ")
print(" 3.Mul ")
print(" 4.Div ")
print(" 5.Mod ")
print(" 6.Exp ")
print(" 7.Flo ")
print(" 8.Quit")


while True:
	
	choice = input(" Enter Your Choice: ")

	if choice in ('1' , '2' , '3' , '4' , '5' , '6' , '7'):

		num1 = float(input(" Enter First Number\n "))
		num2 = float(input(" Enter Second Number\n "))
	if choice == '1':
		print(num1, "+" ,num2, "=" , add(num1,num2))
		print(" \n ")

	elif choice == '2':
		print(num1, "-" ,num2, "=" , add(num1,num2))
		print(" \n ")

	elif choice == '3':
		print(num1, "*" ,num2, "=" , add(num1,num2))
		print(" \n ")

	elif choice == '4':
		print(num1, "/" ,num2, "=" , add(num1,num2))
		print(" \n ")

	elif choice == '5':
		print(num1, "%" ,num2, "=" , add(num1,num2))
		print(" \n ")

	elif choice == '6':
		print(num1, "**" ,num2, "=" , add(num1,num2))
		print(" \n ")

	elif choice == '7':
		print(num1, "//" ,num2, "=" , add(num1,num2))

	else:
		print("Quitting")

	if choice in ('8'):

		print(exit())
