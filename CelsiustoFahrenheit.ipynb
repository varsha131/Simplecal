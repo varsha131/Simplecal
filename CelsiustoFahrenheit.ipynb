
Celsius = int(input("Enter Tempareture in Celsius : ") )

Fahrenheit = 9.0/5.0 * Celsius + 32

print(" Temperature: ", Celsius, "o Celsius = ", Fahrenheit, " Fahrenheit ")
