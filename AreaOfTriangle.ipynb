
Height = float(input("Enter height of triangle : "))

Base = float(input("Entet base of triangle : "))

print("Area Of Triangle is : " , format( (Height * Base ) / 2 ))


