
print("First enter the 'P' (PrincipalInterest) value")

print("Second enter the 'T' (Time) value")

print("Lastly enter the 'R' (RateOfInterest) value")

P = float(input())

T = float(input())

R = float(input())

SI = (P * T * R)/100

print("Simple Interest = " , format(SI))